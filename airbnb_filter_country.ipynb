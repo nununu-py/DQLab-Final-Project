{
 "cells": [
  {
   "attachments": {},
   "cell_type": "markdown",
   "metadata": {},
   "source": [
    "#### Module Import"
   ]
  },
  {
   "cell_type": "code",
   "execution_count": 1,
   "metadata": {},
   "outputs": [],
   "source": [
    "import pandas as pd\n",
    "import numpy as np\n",
    "from geopy.geocoders import Nominatim"
   ]
  },
  {
   "attachments": {},
   "cell_type": "markdown",
   "metadata": {},
   "source": [
    "#### Read Data"
   ]
  },
  {
   "cell_type": "code",
   "execution_count": 20,
   "metadata": {},
   "outputs": [],
   "source": [
    "listing_dataframe = pd.read_csv(\"D:\\Portopolio\\project 10 of 100 (DQLab Project)\\Data\\DQLab_listings(22Sep2022) (1).csv\")"
   ]
  },
  {
   "cell_type": "code",
   "execution_count": 21,
   "metadata": {},
   "outputs": [
    {
     "data": {
      "text/html": [
       "<div>\n",
       "<style scoped>\n",
       "    .dataframe tbody tr th:only-of-type {\n",
       "        vertical-align: middle;\n",
       "    }\n",
       "\n",
       "    .dataframe tbody tr th {\n",
       "        vertical-align: top;\n",
       "    }\n",
       "\n",
       "    .dataframe thead th {\n",
       "        text-align: right;\n",
       "    }\n",
       "</style>\n",
       "<table border=\"1\" class=\"dataframe\">\n",
       "  <thead>\n",
       "    <tr style=\"text-align: right;\">\n",
       "      <th></th>\n",
       "      <th>Unnamed: 0</th>\n",
       "      <th>id</th>\n",
       "      <th>name</th>\n",
       "      <th>host_id</th>\n",
       "      <th>host_name</th>\n",
       "      <th>neighbourhood</th>\n",
       "      <th>latitude</th>\n",
       "      <th>longitude</th>\n",
       "      <th>room_type</th>\n",
       "      <th>price</th>\n",
       "      <th>minimum_nights</th>\n",
       "      <th>availability_365</th>\n",
       "    </tr>\n",
       "  </thead>\n",
       "  <tbody>\n",
       "    <tr>\n",
       "      <th>0</th>\n",
       "      <td>0</td>\n",
       "      <td>50646</td>\n",
       "      <td>Pleasant Room along Bukit Timah</td>\n",
       "      <td>227796</td>\n",
       "      <td>Sujatha</td>\n",
       "      <td>Bukit Timah</td>\n",
       "      <td>1.33432</td>\n",
       "      <td>103.78521</td>\n",
       "      <td>Private room</td>\n",
       "      <td>80</td>\n",
       "      <td>92</td>\n",
       "      <td>365</td>\n",
       "    </tr>\n",
       "    <tr>\n",
       "      <th>1</th>\n",
       "      <td>1</td>\n",
       "      <td>71609</td>\n",
       "      <td>Ensuite Room (Room 1 &amp; 2) near EXPO</td>\n",
       "      <td>367042</td>\n",
       "      <td>Belinda</td>\n",
       "      <td>Tampines</td>\n",
       "      <td>1.34537</td>\n",
       "      <td>103.95887</td>\n",
       "      <td>Private room</td>\n",
       "      <td>145</td>\n",
       "      <td>92</td>\n",
       "      <td>340</td>\n",
       "    </tr>\n",
       "    <tr>\n",
       "      <th>2</th>\n",
       "      <td>2</td>\n",
       "      <td>71896</td>\n",
       "      <td>B&amp;B  Room 1 near Airport &amp; EXPO</td>\n",
       "      <td>367042</td>\n",
       "      <td>Belinda</td>\n",
       "      <td>Tampines</td>\n",
       "      <td>1.34754</td>\n",
       "      <td>103.95958</td>\n",
       "      <td>Private room</td>\n",
       "      <td>85</td>\n",
       "      <td>92</td>\n",
       "      <td>265</td>\n",
       "    </tr>\n",
       "    <tr>\n",
       "      <th>3</th>\n",
       "      <td>3</td>\n",
       "      <td>71903</td>\n",
       "      <td>Room 2-near Airport &amp; EXPO</td>\n",
       "      <td>367042</td>\n",
       "      <td>Belinda</td>\n",
       "      <td>Tampines</td>\n",
       "      <td>1.34531</td>\n",
       "      <td>103.96100</td>\n",
       "      <td>Private room</td>\n",
       "      <td>85</td>\n",
       "      <td>92</td>\n",
       "      <td>365</td>\n",
       "    </tr>\n",
       "    <tr>\n",
       "      <th>4</th>\n",
       "      <td>4</td>\n",
       "      <td>275344</td>\n",
       "      <td>15 mins to Outram MRT Single Room</td>\n",
       "      <td>1439258</td>\n",
       "      <td>Kay</td>\n",
       "      <td>Bukit Merah</td>\n",
       "      <td>1.28836</td>\n",
       "      <td>103.81144</td>\n",
       "      <td>Private room</td>\n",
       "      <td>49</td>\n",
       "      <td>60</td>\n",
       "      <td>296</td>\n",
       "    </tr>\n",
       "  </tbody>\n",
       "</table>\n",
       "</div>"
      ],
      "text/plain": [
       "   Unnamed: 0      id                                 name  host_id host_name  \\\n",
       "0           0   50646      Pleasant Room along Bukit Timah   227796   Sujatha   \n",
       "1           1   71609  Ensuite Room (Room 1 & 2) near EXPO   367042   Belinda   \n",
       "2           2   71896      B&B  Room 1 near Airport & EXPO   367042   Belinda   \n",
       "3           3   71903           Room 2-near Airport & EXPO   367042   Belinda   \n",
       "4           4  275344    15 mins to Outram MRT Single Room  1439258       Kay   \n",
       "\n",
       "  neighbourhood  latitude  longitude     room_type  price  minimum_nights  \\\n",
       "0   Bukit Timah   1.33432  103.78521  Private room     80              92   \n",
       "1      Tampines   1.34537  103.95887  Private room    145              92   \n",
       "2      Tampines   1.34754  103.95958  Private room     85              92   \n",
       "3      Tampines   1.34531  103.96100  Private room     85              92   \n",
       "4   Bukit Merah   1.28836  103.81144  Private room     49              60   \n",
       "\n",
       "   availability_365  \n",
       "0               365  \n",
       "1               340  \n",
       "2               265  \n",
       "3               365  \n",
       "4               296  "
      ]
     },
     "execution_count": 21,
     "metadata": {},
     "output_type": "execute_result"
    }
   ],
   "source": [
    "listing_dataframe.head()"
   ]
  },
  {
   "cell_type": "code",
   "execution_count": null,
   "metadata": {},
   "outputs": [],
   "source": []
  },
  {
   "attachments": {},
   "cell_type": "markdown",
   "metadata": {},
   "source": [
    "#### Get To Know Data"
   ]
  },
  {
   "cell_type": "code",
   "execution_count": 22,
   "metadata": {},
   "outputs": [
    {
     "data": {
      "text/plain": [
       "'PRICE'"
      ]
     },
     "metadata": {},
     "output_type": "display_data"
    },
    {
     "data": {
      "text/plain": [
       "count     4161.000000\n",
       "mean       214.505167\n",
       "std        454.921421\n",
       "min          0.000000\n",
       "25%         60.000000\n",
       "50%        120.000000\n",
       "75%        235.000000\n",
       "max      12494.000000\n",
       "Name: price, dtype: float64"
      ]
     },
     "metadata": {},
     "output_type": "display_data"
    },
    {
     "data": {
      "text/plain": [
       "'MIN NIGHT'"
      ]
     },
     "metadata": {},
     "output_type": "display_data"
    },
    {
     "data": {
      "text/plain": [
       "count    4161.000000\n",
       "mean       57.566931\n",
       "std        65.746522\n",
       "min         1.000000\n",
       "25%         1.000000\n",
       "50%        92.000000\n",
       "75%        92.000000\n",
       "max      1000.000000\n",
       "Name: minimum_nights, dtype: float64"
      ]
     },
     "metadata": {},
     "output_type": "display_data"
    }
   ],
   "source": [
    "display(\"PRICE\", listing_dataframe['price'].describe())\n",
    "\n",
    "display(\"MIN NIGHT\", listing_dataframe['minimum_nights'].describe())"
   ]
  },
  {
   "attachments": {},
   "cell_type": "markdown",
   "metadata": {},
   "source": [
    "#### Check Data Type"
   ]
  },
  {
   "cell_type": "code",
   "execution_count": 23,
   "metadata": {},
   "outputs": [
    {
     "name": "stdout",
     "output_type": "stream",
     "text": [
      "data type latitude now :  <class 'numpy.float64'>\n"
     ]
    }
   ],
   "source": [
    "print(f\"data type latitude now : \", type(listing_dataframe['latitude'][0]))"
   ]
  },
  {
   "attachments": {},
   "cell_type": "markdown",
   "metadata": {},
   "source": [
    "#### Convert Data Type"
   ]
  },
  {
   "cell_type": "code",
   "execution_count": 24,
   "metadata": {},
   "outputs": [],
   "source": [
    "listing_dataframe['latitude'] = listing_dataframe['latitude'].astype(str)\n",
    "listing_dataframe['longitude'] = listing_dataframe['longitude'].astype(str)"
   ]
  },
  {
   "cell_type": "code",
   "execution_count": 25,
   "metadata": {},
   "outputs": [
    {
     "name": "stdout",
     "output_type": "stream",
     "text": [
      "data type column values latitude :  <class 'str'>\n"
     ]
    }
   ],
   "source": [
    "print(f\"data type column values latitude : \", type(listing_dataframe['latitude'][0]))"
   ]
  },
  {
   "cell_type": "code",
   "execution_count": 30,
   "metadata": {},
   "outputs": [
    {
     "data": {
      "text/plain": [
       "array(['1.33432, 103.78521', '1.34537, 103.95887', '1.34754, 103.95958',\n",
       "       '1.34531, 103.961', '1.28836, 103.81144', '1.3449, 103.95979',\n",
       "       '1.31142, 103.83924', '1.28828, 103.8102', '1.28652, 103.81225',\n",
       "       '1.28636, 103.81138'], dtype='<U38')"
      ]
     },
     "execution_count": 30,
     "metadata": {},
     "output_type": "execute_result"
    }
   ],
   "source": [
    "latitudeLong_list = [f\"{keys}, {values}\" for keys,values in zip(listing_dataframe['latitude'], listing_dataframe['longitude'])]\n",
    "\n",
    "latitudeLong_arr = np.array(latitudeLong_list)\n",
    "\n",
    "latitudeLong_arr[0:10]"
   ]
  },
  {
   "cell_type": "code",
   "execution_count": 35,
   "metadata": {},
   "outputs": [],
   "source": [
    "listing_dataframe[\"lat-long\"] = latitudeLong_arr"
   ]
  },
  {
   "cell_type": "code",
   "execution_count": 40,
   "metadata": {},
   "outputs": [],
   "source": [
    "geolocator = Nominatim(user_agent=\"GetCountry\")\n",
    "\n",
    "def get_country(coord):\n",
    "    location = geolocator.reverse(coord, exactly_one=True)\n",
    "    address = location.raw['address']\n",
    "    country = address.get('country', '')\n",
    "    return country"
   ]
  },
  {
   "cell_type": "code",
   "execution_count": 48,
   "metadata": {},
   "outputs": [],
   "source": [
    "listing_dataframe['country name'] = listing_dataframe[:]['lat-long'].apply(get_country)"
   ]
  },
  {
   "cell_type": "code",
   "execution_count": 58,
   "metadata": {},
   "outputs": [
    {
     "data": {
      "text/html": [
       "<div>\n",
       "<style scoped>\n",
       "    .dataframe tbody tr th:only-of-type {\n",
       "        vertical-align: middle;\n",
       "    }\n",
       "\n",
       "    .dataframe tbody tr th {\n",
       "        vertical-align: top;\n",
       "    }\n",
       "\n",
       "    .dataframe thead th {\n",
       "        text-align: right;\n",
       "    }\n",
       "</style>\n",
       "<table border=\"1\" class=\"dataframe\">\n",
       "  <thead>\n",
       "    <tr style=\"text-align: right;\">\n",
       "      <th></th>\n",
       "      <th>Unnamed: 0</th>\n",
       "      <th>id</th>\n",
       "      <th>name</th>\n",
       "      <th>host_id</th>\n",
       "      <th>host_name</th>\n",
       "      <th>neighbourhood</th>\n",
       "      <th>latitude</th>\n",
       "      <th>longitude</th>\n",
       "      <th>room_type</th>\n",
       "      <th>price</th>\n",
       "      <th>minimum_nights</th>\n",
       "      <th>availability_365</th>\n",
       "      <th>lat-long</th>\n",
       "      <th>country name</th>\n",
       "    </tr>\n",
       "  </thead>\n",
       "  <tbody>\n",
       "    <tr>\n",
       "      <th>0</th>\n",
       "      <td>0</td>\n",
       "      <td>50646</td>\n",
       "      <td>Pleasant Room along Bukit Timah</td>\n",
       "      <td>227796</td>\n",
       "      <td>Sujatha</td>\n",
       "      <td>Bukit Timah</td>\n",
       "      <td>1.33432</td>\n",
       "      <td>103.78521</td>\n",
       "      <td>Private room</td>\n",
       "      <td>80</td>\n",
       "      <td>92</td>\n",
       "      <td>365</td>\n",
       "      <td>1.33432, 103.78521</td>\n",
       "      <td>Singapore</td>\n",
       "    </tr>\n",
       "    <tr>\n",
       "      <th>1</th>\n",
       "      <td>1</td>\n",
       "      <td>71609</td>\n",
       "      <td>Ensuite Room (Room 1 &amp; 2) near EXPO</td>\n",
       "      <td>367042</td>\n",
       "      <td>Belinda</td>\n",
       "      <td>Tampines</td>\n",
       "      <td>1.34537</td>\n",
       "      <td>103.95887</td>\n",
       "      <td>Private room</td>\n",
       "      <td>145</td>\n",
       "      <td>92</td>\n",
       "      <td>340</td>\n",
       "      <td>1.34537, 103.95887</td>\n",
       "      <td>Singapore</td>\n",
       "    </tr>\n",
       "    <tr>\n",
       "      <th>2</th>\n",
       "      <td>2</td>\n",
       "      <td>71896</td>\n",
       "      <td>B&amp;B  Room 1 near Airport &amp; EXPO</td>\n",
       "      <td>367042</td>\n",
       "      <td>Belinda</td>\n",
       "      <td>Tampines</td>\n",
       "      <td>1.34754</td>\n",
       "      <td>103.95958</td>\n",
       "      <td>Private room</td>\n",
       "      <td>85</td>\n",
       "      <td>92</td>\n",
       "      <td>265</td>\n",
       "      <td>1.34754, 103.95958</td>\n",
       "      <td>Singapore</td>\n",
       "    </tr>\n",
       "    <tr>\n",
       "      <th>3</th>\n",
       "      <td>3</td>\n",
       "      <td>71903</td>\n",
       "      <td>Room 2-near Airport &amp; EXPO</td>\n",
       "      <td>367042</td>\n",
       "      <td>Belinda</td>\n",
       "      <td>Tampines</td>\n",
       "      <td>1.34531</td>\n",
       "      <td>103.961</td>\n",
       "      <td>Private room</td>\n",
       "      <td>85</td>\n",
       "      <td>92</td>\n",
       "      <td>365</td>\n",
       "      <td>1.34531, 103.961</td>\n",
       "      <td>Singapore</td>\n",
       "    </tr>\n",
       "    <tr>\n",
       "      <th>4</th>\n",
       "      <td>4</td>\n",
       "      <td>275344</td>\n",
       "      <td>15 mins to Outram MRT Single Room</td>\n",
       "      <td>1439258</td>\n",
       "      <td>Kay</td>\n",
       "      <td>Bukit Merah</td>\n",
       "      <td>1.28836</td>\n",
       "      <td>103.81144</td>\n",
       "      <td>Private room</td>\n",
       "      <td>49</td>\n",
       "      <td>60</td>\n",
       "      <td>296</td>\n",
       "      <td>1.28836, 103.81144</td>\n",
       "      <td>Singapore</td>\n",
       "    </tr>\n",
       "  </tbody>\n",
       "</table>\n",
       "</div>"
      ],
      "text/plain": [
       "   Unnamed: 0      id                                 name  host_id host_name  \\\n",
       "0           0   50646      Pleasant Room along Bukit Timah   227796   Sujatha   \n",
       "1           1   71609  Ensuite Room (Room 1 & 2) near EXPO   367042   Belinda   \n",
       "2           2   71896      B&B  Room 1 near Airport & EXPO   367042   Belinda   \n",
       "3           3   71903           Room 2-near Airport & EXPO   367042   Belinda   \n",
       "4           4  275344    15 mins to Outram MRT Single Room  1439258       Kay   \n",
       "\n",
       "  neighbourhood latitude  longitude     room_type  price  minimum_nights  \\\n",
       "0   Bukit Timah  1.33432  103.78521  Private room     80              92   \n",
       "1      Tampines  1.34537  103.95887  Private room    145              92   \n",
       "2      Tampines  1.34754  103.95958  Private room     85              92   \n",
       "3      Tampines  1.34531    103.961  Private room     85              92   \n",
       "4   Bukit Merah  1.28836  103.81144  Private room     49              60   \n",
       "\n",
       "   availability_365            lat-long country name  \n",
       "0               365  1.33432, 103.78521    Singapore  \n",
       "1               340  1.34537, 103.95887    Singapore  \n",
       "2               265  1.34754, 103.95958    Singapore  \n",
       "3               365    1.34531, 103.961    Singapore  \n",
       "4               296  1.28836, 103.81144    Singapore  "
      ]
     },
     "execution_count": 58,
     "metadata": {},
     "output_type": "execute_result"
    }
   ],
   "source": [
    "listing_dataframe.head()"
   ]
  },
  {
   "cell_type": "code",
   "execution_count": 50,
   "metadata": {},
   "outputs": [],
   "source": [
    "filter = listing_dataframe[\"country name\"] == \"Malaysia\""
   ]
  },
  {
   "cell_type": "code",
   "execution_count": 66,
   "metadata": {},
   "outputs": [
    {
     "data": {
      "text/plain": [
       "(1024, 14)"
      ]
     },
     "execution_count": 66,
     "metadata": {},
     "output_type": "execute_result"
    }
   ],
   "source": [
    "listing_dataframe[filter].shape"
   ]
  },
  {
   "cell_type": "code",
   "execution_count": null,
   "metadata": {},
   "outputs": [],
   "source": [
    "listing_dataframe.to_csv(r'D:\\Portopolio\\project 10 of 100 (DQLab Project)\\Data\\\\listing_byCountry.csv')"
   ]
  }
 ],
 "metadata": {
  "kernelspec": {
   "display_name": "Python 3",
   "language": "python",
   "name": "python3"
  },
  "language_info": {
   "codemirror_mode": {
    "name": "ipython",
    "version": 3
   },
   "file_extension": ".py",
   "mimetype": "text/x-python",
   "name": "python",
   "nbconvert_exporter": "python",
   "pygments_lexer": "ipython3",
   "version": "3.10.5 (tags/v3.10.5:f377153, Jun  6 2022, 16:14:13) [MSC v.1929 64 bit (AMD64)]"
  },
  "orig_nbformat": 4,
  "vscode": {
   "interpreter": {
    "hash": "6b225b10b33d1a4607d1b0f57471523d46d84b9d8aa7df81f56ae701e53c4bfe"
   }
  }
 },
 "nbformat": 4,
 "nbformat_minor": 2
}
